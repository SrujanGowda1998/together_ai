{
 "cells": [
  {
   "cell_type": "code",
   "execution_count": 4,
   "metadata": {},
   "outputs": [
    {
     "name": "stdout",
     "output_type": "stream",
     "text": [
      "The city that never sleeps - New York! There are countless fun things to do in the Big Apple. Here are some ideas to get you started:\n",
      "\n",
      "**Iconic Landmarks and Attractions:**\n",
      "\n",
      "1. **Statue of Liberty and Ellis Island**: Take a ferry to Liberty Island to see the iconic statue up close and visit the Ellis Island Immigration Museum.\n",
      "2. **Central Park**: A massive urban park in the heart of Manhattan, offering walking paths, lakes, and plenty of green space.\n",
      "3. **Times Square**: The bright lights and bustling energy of the \"Crossroads of the World\" make it a must-visit spot.\n",
      "4. **Empire State Building**: For a panoramic view of the city, head to the observation deck of this iconic skyscraper.\n",
      "5. **9/11 Memorial & Museum**: A poignant tribute to the victims of the 9/11 attacks, featuring two massive reflecting pools and a museum with artifacts and stories.\n",
      "\n",
      "**Museums and Galleries:**\n",
      "\n",
      "1. **The Metropolitan Museum of Art**: One of the world's largest and most famous museums, with a collection that spans over 5,000 years of art history.\n",
      "2. **American Museum of Natural History**: Explore the wonders of the natural world, from dinosaurs to space exploration.\n",
      "3. **The Museum of Modern Art (MoMA)**: A world-renowned museum featuring an extensive collection of modern and contemporary art.\n",
      "4. **Guggenheim Museum**: Designed by Frank Lloyd Wright, this museum is a work of art in itself, with a unique spiral design and an impressive collection of modern and contemporary art.\n",
      "5. **Whitney Museum of American Art**: Showcasing a diverse range of American art from the 20th and 21st centuries.\n",
      "\n",
      "**Performing Arts and Entertainment:**\n",
      "\n",
      "1. **Broadway Shows**: Catch a performance of a hit musical or play on the Great White Way.\n",
      "2. **Radio City Music Hall**: This iconic music venue hosts concerts, comedy shows, and other performances.\n",
      "3. **Lincoln Center**: A world-renowned performing arts complex featuring the New York City Ballet, Metropolitan Opera, and more.\n",
      "4. **Madison Square Garden**: Catch a sports game or concert at this iconic arena.\n",
      "5. **Comedy Cellar**: A legendary comedy club where you can see up-and-coming comedians and industry legends.\n",
      "\n",
      "**Food and Drink:**\n",
      "\n",
      "1. **Try a classic New York-style pizza**: Lombardi's, Joe's Pizza, and Patsy's Pizzeria are just a few of the many iconic pizzerias.\n",
      "2. **Bagels**: Ess-a-Bagel, Russ & Daughters Cafe, and H&H Bagels are just a few of the many great bagel shops.\n",
      "3. **Deli sandwiches**: Katz's Delicatessen, Carnegie Deli, and Russ & Daughters Cafe offer classic Jewish deli fare.\n",
      "4. **Smorgasburg**: A weekly outdoor market featuring artisanal food vendors and local producers.\n",
      "5. **Visit a classic diner**: Try a classic diner like Ellen's Stardust Diner or the Tick Tock Diner.\n",
      "\n",
      "**Shopping:**\n",
      "\n",
      "1. **Fifth Avenue**: Luxury shopping at its finest, with iconic department stores like Saks Fifth Avenue and Bergdorf Goodman.\n",
      "2. **SoHo**: Trendy boutiques and art galleries in this historic neighborhood.\n",
      "3. **Brooklyn Flea**: A weekend market featuring vintage and artisanal goods.\n",
      "4. **Grand Central Market**: A historic market offering a variety of food, flowers, and other goods.\n",
      "5. **Macy's Herald Square**: A classic department store with a massive flagship location.\n",
      "\n",
      "**Outdoor Activities:**\n",
      "\n",
      "1. **Walk across the Brooklyn Bridge**: Take in the stunning views of the Manhattan skyline and the East River.\n",
      "2. **Rent a bike**: Explore the city on two wheels with a bike rental from Citi Bike or a local shop.\n",
      "3. **Visit the High Line**: An elevated park built on an old rail line, offering great views of the city.\n",
      "4. **Take a stroll in Prospect Park**: A beautiful green space in Brooklyn with a lake, walking paths, and plenty of wildlife.\n",
      "5. **Visit the Bronx Zoo**: The largest metropolitan zoo in the United States, with over 6,000 animals from around the world.\n",
      "\n",
      "These are just a few of the many fun things to do in New York City. Whether you're interested in history, art, food, or entertainment, there's something for everyone in the Big Apple."
     ]
    }
   ],
   "source": [
    "from together import Together\n",
    "\n",
    "client = Together(api_key=\"38d55d45f1284dd8434715fd735512347f0abb0234943dd3590ab848f2a1f74d\")\n",
    "\n",
    "stream = client.chat.completions.create(\n",
    "  model=\"meta-llama/Meta-Llama-3.1-8B-Instruct-Turbo\",\n",
    "  messages=[{\"role\": \"user\", \"content\": \"What are some fun things to do in New York?\"}],\n",
    "  stream=True,\n",
    ")\n",
    "\n",
    "for chunk in stream:\n",
    "  print(chunk.choices[0].delta.content or \"\", end=\"\", flush=True)"
   ]
  },
  {
   "cell_type": "code",
   "execution_count": null,
   "metadata": {},
   "outputs": [],
   "source": []
  }
 ],
 "metadata": {
  "kernelspec": {
   "display_name": ".venv1",
   "language": "python",
   "name": "python3"
  },
  "language_info": {
   "codemirror_mode": {
    "name": "ipython",
    "version": 3
   },
   "file_extension": ".py",
   "mimetype": "text/x-python",
   "name": "python",
   "nbconvert_exporter": "python",
   "pygments_lexer": "ipython3",
   "version": "3.11.4"
  }
 },
 "nbformat": 4,
 "nbformat_minor": 2
}
