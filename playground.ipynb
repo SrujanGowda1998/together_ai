{
 "cells": [
  {
   "cell_type": "code",
   "execution_count": 9,
   "metadata": {},
   "outputs": [
    {
     "name": "stdout",
     "output_type": "stream",
     "text": [
      "The city that never sleeps! New York is a vibrant and exciting destination that offers a wide range of activities for all interests and ages. Here are some fun things to do in New York:\n",
      "\n",
      "**Iconic Landmarks and Attractions:**\n",
      "\n",
      "1. **Statue of Liberty and Ellis Island**: Take a ferry to Liberty Island to see the iconic statue up close and visit the Ellis Island Immigration Museum.\n",
      "2. **Central Park**: A tranquil oasis in the middle of Manhattan, offering walking paths, lakes, and plenty of people-watching opportunities.\n",
      "3. **Empire State Building**: For a panoramic view of the city, head to the observation deck of this iconic skyscraper.\n",
      "4. **Times Square**: The heart of New York's entertainment district, known for its bright lights, giant billboards, and lively atmosphere.\n",
      "5. **9/11 Memorial & Museum**: A poignant tribute to the victims of the 9/11 attacks, featuring two massive reflecting pools and a museum with artifacts and stories.\n",
      "\n",
      "**Arts and Culture:**\n",
      "\n",
      "1. **The Metropolitan Museum of Art**: One of the world's largest and most famous museums, with a collection that spans over 5,000 years of human history.\n",
      "2. **Museum of Modern Art (MoMA)**: A must-visit for modern art lovers, with a collection that includes works by Warhol, Pollock, and Picasso.\n",
      "3. **Broadway Shows**: Catch a performance of a hit musical or play on the Great White Way.\n",
      "4. **Lincoln Center**: Home to the New York City Ballet, the Metropolitan Opera, and the New York Philharmonic.\n",
      "5. **Street Art**: Explore the vibrant street art scene in neighborhoods like the Lower East Side, Bushwick, and Williamsburg.\n",
      "\n",
      "**Food and Drink:**\n",
      "\n",
      "1. **Try a classic New York-style pizza**: Lombardi's, Joe's Pizza, and Patsy's Pizzeria are just a few of the many iconic pizzerias.\n",
      "2. **Bagels**: Ess-a-Bagel, Russ & Daughters Cafe, and H&H Bagels are some of the best bagel shops in the city.\n",
      "3. **Deli sandwiches**: Katz's Delicatessen, Carnegie Deli, and Russ & Daughters Cafe serve up classic Jewish deli fare.\n",
      "4. **Food Tours**: Explore the city's diverse culinary scene with a guided tour of Chinatown, Little Italy, or other neighborhoods.\n",
      "5. **Desserts**: Try a classic New York-style cheesecake at Juniors or a slice of black and white cookie at Levain Bakery.\n",
      "\n",
      "**Outdoor Activities:**\n",
      "\n",
      "1. **Walk across the Brooklyn Bridge**: Take in the stunning views of the Manhattan skyline and the East River.\n",
      "2. **Rent a bike**: Explore the city on two wheels with a bike rental from Citi Bike or a local shop.\n",
      "3. **Visit the High Line**: An elevated park built on an old rail line, offering great views of the Hudson River and the city.\n",
      "4. **Kayaking**: Rent a kayak and paddle around the city's waterways, including the Hudson River and the East River.\n",
      "5. **Visit a rooftop bar**: Enjoy a drink and take in the views from a rooftop bar like 230 Fifth or the Top of the Strand.\n",
      "\n",
      "**Shopping:**\n",
      "\n",
      "1. **Fifth Avenue**: Luxury shopping at its finest, with flagship stores like Saks Fifth Avenue and Bergdorf Goodman.\n",
      "2. **SoHo**: Trendy boutiques and art galleries in this historic neighborhood.\n",
      "3. **Brooklyn Flea**: A weekend market featuring vintage goods, artisanal foods, and handmade crafts.\n",
      "4. **Smorgasburg**: A weekly market in Williamsburg featuring local food vendors and artisanal goods.\n",
      "5. **Macy's Herald Square**: A classic department store with a massive flagship location.\n",
      "\n",
      "**Sports:**\n",
      "\n",
      "1. **Yankee Stadium**: Catch a baseball game with the New York Yankees.\n",
      "2. **Madison Square Garden**: Home to the New York Knicks (basketball) and the New York Rangers (hockey).\n",
      "3. **Citi Field**: Catch a baseball game with the New York Mets.\n",
      "4. **US Open Tennis**: Watch the world's top tennis players compete at Flushing Meadows Corona Park.\n",
      "5. **New York City Marathon**: Run or cheer on the runners in the world's largest marathon.\n",
      "\n",
      "These are just a few of the many fun things to do in New York. Whether you're interested in history, art, food, or sports, there's something for everyone in the city that never sleeps."
     ]
    }
   ],
   "source": [
    "from together import Together\n",
    "import os\n",
    "from dotenv import load_dotenv\n",
    "\n",
    "load_dotenv()\n",
    "api_key = os.getenv(\"TOGETHER_API_KEY\")\n",
    "\n",
    "client = Together(api_key=api_key)\n",
    "\n",
    "stream = client.chat.completions.create(\n",
    "  model=\"meta-llama/Meta-Llama-3.1-8B-Instruct-Turbo\",\n",
    "  messages=[{\"role\": \"user\", \"content\": \"What are some fun things to do in New York?\"}],\n",
    "  stream=True,\n",
    ")\n",
    "\n",
    "for chunk in stream:\n",
    "  print(chunk.choices[0].delta.content or \"\", end=\"\", flush=True)"
   ]
  },
  {
   "cell_type": "code",
   "execution_count": 7,
   "metadata": {},
   "outputs": [
    {
     "name": "stdout",
     "output_type": "stream",
     "text": [
      "Collecting python-dotenv\n",
      "  Downloading python_dotenv-1.0.1-py3-none-any.whl (19 kB)\n",
      "Installing collected packages: python-dotenv\n",
      "Successfully installed python-dotenv-1.0.1\n"
     ]
    },
    {
     "name": "stderr",
     "output_type": "stream",
     "text": [
      "\n",
      "[notice] A new release of pip is available: 23.1.2 -> 24.3.1\n",
      "[notice] To update, run: python.exe -m pip install --upgrade pip\n"
     ]
    }
   ],
   "source": [
    "!pip install python-dotenv"
   ]
  },
  {
   "cell_type": "code",
   "execution_count": null,
   "metadata": {},
   "outputs": [],
   "source": []
  }
 ],
 "metadata": {
  "kernelspec": {
   "display_name": ".venv1",
   "language": "python",
   "name": "python3"
  },
  "language_info": {
   "codemirror_mode": {
    "name": "ipython",
    "version": 3
   },
   "file_extension": ".py",
   "mimetype": "text/x-python",
   "name": "python",
   "nbconvert_exporter": "python",
   "pygments_lexer": "ipython3",
   "version": "3.11.4"
  }
 },
 "nbformat": 4,
 "nbformat_minor": 2
}
